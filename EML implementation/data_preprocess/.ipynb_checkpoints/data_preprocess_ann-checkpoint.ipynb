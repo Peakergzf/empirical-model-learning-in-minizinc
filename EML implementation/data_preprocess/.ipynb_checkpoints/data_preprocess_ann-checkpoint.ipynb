{
 "cells": [
  {
   "cell_type": "markdown",
   "metadata": {},
   "source": [
    "## Neural Network"
   ]
  },
  {
   "cell_type": "code",
   "execution_count": 1,
   "metadata": {},
   "outputs": [],
   "source": [
    "import pandas as pd"
   ]
  },
  {
   "cell_type": "code",
   "execution_count": 2,
   "metadata": {},
   "outputs": [
    {
     "data": {
      "text/html": [
       "<div>\n",
       "<style scoped>\n",
       "    .dataframe tbody tr th:only-of-type {\n",
       "        vertical-align: middle;\n",
       "    }\n",
       "\n",
       "    .dataframe tbody tr th {\n",
       "        vertical-align: top;\n",
       "    }\n",
       "\n",
       "    .dataframe thead th {\n",
       "        text-align: right;\n",
       "    }\n",
       "</style>\n",
       "<table border=\"1\" class=\"dataframe\">\n",
       "  <thead>\n",
       "    <tr style=\"text-align: right;\">\n",
       "      <th></th>\n",
       "      <th>0</th>\n",
       "      <th>1</th>\n",
       "      <th>2</th>\n",
       "      <th>3</th>\n",
       "      <th>4</th>\n",
       "      <th>5</th>\n",
       "      <th>6</th>\n",
       "      <th>7</th>\n",
       "      <th>8</th>\n",
       "      <th>9</th>\n",
       "      <th>...</th>\n",
       "      <th>278</th>\n",
       "      <th>279</th>\n",
       "      <th>280</th>\n",
       "      <th>281</th>\n",
       "      <th>282</th>\n",
       "      <th>283</th>\n",
       "      <th>284</th>\n",
       "      <th>285</th>\n",
       "      <th>286</th>\n",
       "      <th>287</th>\n",
       "    </tr>\n",
       "  </thead>\n",
       "  <tbody>\n",
       "    <tr>\n",
       "      <th>0</th>\n",
       "      <td>2.325282</td>\n",
       "      <td>2.696614</td>\n",
       "      <td>2.334887</td>\n",
       "      <td>2.619678</td>\n",
       "      <td>1.39219</td>\n",
       "      <td>0.631348</td>\n",
       "      <td>2.144573</td>\n",
       "      <td>2.097855</td>\n",
       "      <td>2.015603</td>\n",
       "      <td>1.409936</td>\n",
       "      <td>...</td>\n",
       "      <td>1.966699</td>\n",
       "      <td>1.743613</td>\n",
       "      <td>1.689827</td>\n",
       "      <td>2.076212</td>\n",
       "      <td>0.917113</td>\n",
       "      <td>3.851269</td>\n",
       "      <td>2.092483</td>\n",
       "      <td>1.747901</td>\n",
       "      <td>0.810541</td>\n",
       "      <td>2.580693</td>\n",
       "    </tr>\n",
       "  </tbody>\n",
       "</table>\n",
       "<p>1 rows × 288 columns</p>\n",
       "</div>"
      ],
      "text/plain": [
       "        0         1         2         3        4         5         6    \\\n",
       "0  2.325282  2.696614  2.334887  2.619678  1.39219  0.631348  2.144573   \n",
       "\n",
       "        7         8         9      ...          278       279       280  \\\n",
       "0  2.097855  2.015603  1.409936    ...     1.966699  1.743613  1.689827   \n",
       "\n",
       "        281       282       283       284       285       286       287  \n",
       "0  2.076212  0.917113  3.851269  2.092483  1.747901  0.810541  2.580693  \n",
       "\n",
       "[1 rows x 288 columns]"
      ]
     },
     "execution_count": 2,
     "metadata": {},
     "output_type": "execute_result"
    }
   ],
   "source": [
    "cpi = pd.read_csv(\"wld_warm_div20.txt\", sep=\",\", header=None)\n",
    "\n",
    "cpi[:1]"
   ]
  },
  {
   "cell_type": "code",
   "execution_count": 3,
   "metadata": {},
   "outputs": [
    {
     "data": {
      "text/html": [
       "<div>\n",
       "<style scoped>\n",
       "    .dataframe tbody tr th:only-of-type {\n",
       "        vertical-align: middle;\n",
       "    }\n",
       "\n",
       "    .dataframe tbody tr th {\n",
       "        vertical-align: top;\n",
       "    }\n",
       "\n",
       "    .dataframe thead th {\n",
       "        text-align: right;\n",
       "    }\n",
       "</style>\n",
       "<table border=\"1\" class=\"dataframe\">\n",
       "  <thead>\n",
       "    <tr style=\"text-align: right;\">\n",
       "      <th></th>\n",
       "      <th># of inputs</th>\n",
       "      <th># of hidden neurons</th>\n",
       "      <th># of output neurons</th>\n",
       "      <th>x1-a1</th>\n",
       "      <th>x2-a1</th>\n",
       "      <th>x3-a1</th>\n",
       "      <th>x4-a1</th>\n",
       "      <th>bias-a1</th>\n",
       "      <th>x1-a2</th>\n",
       "      <th>x2-a2</th>\n",
       "      <th>x3-a2</th>\n",
       "      <th>x4-a2</th>\n",
       "      <th>bias-a2</th>\n",
       "      <th>a1-h</th>\n",
       "      <th>a2-h</th>\n",
       "      <th>bias-h</th>\n",
       "    </tr>\n",
       "  </thead>\n",
       "  <tbody>\n",
       "    <tr>\n",
       "      <th>0</th>\n",
       "      <td>4</td>\n",
       "      <td>2</td>\n",
       "      <td>1</td>\n",
       "      <td>6.45294</td>\n",
       "      <td>0.017452</td>\n",
       "      <td>1.582344</td>\n",
       "      <td>2.293046</td>\n",
       "      <td>2.12057</td>\n",
       "      <td>3.951125</td>\n",
       "      <td>12.720648</td>\n",
       "      <td>-19.327801</td>\n",
       "      <td>5.587888</td>\n",
       "      <td>9.382982</td>\n",
       "      <td>0.003064</td>\n",
       "      <td>0.003539</td>\n",
       "      <td>0.795949</td>\n",
       "    </tr>\n",
       "  </tbody>\n",
       "</table>\n",
       "</div>"
      ],
      "text/plain": [
       "   # of inputs  # of hidden neurons  # of output neurons    x1-a1     x2-a1  \\\n",
       "0            4                    2                    1  6.45294  0.017452   \n",
       "\n",
       "      x3-a1     x4-a1  bias-a1     x1-a2      x2-a2      x3-a2     x4-a2  \\\n",
       "0  1.582344  2.293046  2.12057  3.951125  12.720648 -19.327801  5.587888   \n",
       "\n",
       "    bias-a2      a1-h      a2-h    bias-h  \n",
       "0  9.382982  0.003064  0.003539  0.795949  "
      ]
     },
     "execution_count": 3,
     "metadata": {},
     "output_type": "execute_result"
    }
   ],
   "source": [
    "ann = pd.read_csv(\"scc_ann1.txt\", sep=\",\", header=None)\n",
    "\n",
    "ann.columns = [\"# of inputs\", \"# of hidden neurons\", \"# of output neurons\",\n",
    "                          \"x1-a1\", \"x2-a1\", \"x3-a1\", \"x4-a1\", \"bias-a1\", \n",
    "                          \"x1-a2\", \"x2-a2\", \"x3-a2\", \"x4-a2\", \"bias-a2\", \n",
    "                          \"a1-h\", \"a2-h\", \"bias-h\"]\n",
    "\n",
    "ann[:1]"
   ]
  },
  {
   "cell_type": "code",
   "execution_count": 4,
   "metadata": {},
   "outputs": [],
   "source": [
    "ann = ann.iloc[:,3:]"
   ]
  },
  {
   "cell_type": "code",
   "execution_count": 5,
   "metadata": {},
   "outputs": [
    {
     "data": {
      "text/html": [
       "<div>\n",
       "<style scoped>\n",
       "    .dataframe tbody tr th:only-of-type {\n",
       "        vertical-align: middle;\n",
       "    }\n",
       "\n",
       "    .dataframe tbody tr th {\n",
       "        vertical-align: top;\n",
       "    }\n",
       "\n",
       "    .dataframe thead th {\n",
       "        text-align: right;\n",
       "    }\n",
       "</style>\n",
       "<table border=\"1\" class=\"dataframe\">\n",
       "  <thead>\n",
       "    <tr style=\"text-align: right;\">\n",
       "      <th></th>\n",
       "      <th>x1-a1</th>\n",
       "      <th>x2-a1</th>\n",
       "      <th>x3-a1</th>\n",
       "      <th>x4-a1</th>\n",
       "      <th>bias-a1</th>\n",
       "      <th>x1-a2</th>\n",
       "      <th>x2-a2</th>\n",
       "      <th>x3-a2</th>\n",
       "      <th>x4-a2</th>\n",
       "      <th>bias-a2</th>\n",
       "      <th>a1-h</th>\n",
       "      <th>a2-h</th>\n",
       "      <th>bias-h</th>\n",
       "    </tr>\n",
       "  </thead>\n",
       "  <tbody>\n",
       "    <tr>\n",
       "      <th>0</th>\n",
       "      <td>6.45294</td>\n",
       "      <td>0.017452</td>\n",
       "      <td>1.582344</td>\n",
       "      <td>2.293046</td>\n",
       "      <td>2.12057</td>\n",
       "      <td>3.951125</td>\n",
       "      <td>12.720648</td>\n",
       "      <td>-19.327801</td>\n",
       "      <td>5.587888</td>\n",
       "      <td>9.382982</td>\n",
       "      <td>0.003064</td>\n",
       "      <td>0.003539</td>\n",
       "      <td>0.795949</td>\n",
       "    </tr>\n",
       "  </tbody>\n",
       "</table>\n",
       "</div>"
      ],
      "text/plain": [
       "     x1-a1     x2-a1     x3-a1     x4-a1  bias-a1     x1-a2      x2-a2  \\\n",
       "0  6.45294  0.017452  1.582344  2.293046  2.12057  3.951125  12.720648   \n",
       "\n",
       "       x3-a2     x4-a2   bias-a2      a1-h      a2-h    bias-h  \n",
       "0 -19.327801  5.587888  9.382982  0.003064  0.003539  0.795949  "
      ]
     },
     "execution_count": 5,
     "metadata": {},
     "output_type": "execute_result"
    }
   ],
   "source": [
    "ann[:1]"
   ]
  },
  {
   "cell_type": "code",
   "execution_count": 6,
   "metadata": {},
   "outputs": [
    {
     "data": {
      "text/html": [
       "<div>\n",
       "<style scoped>\n",
       "    .dataframe tbody tr th:only-of-type {\n",
       "        vertical-align: middle;\n",
       "    }\n",
       "\n",
       "    .dataframe tbody tr th {\n",
       "        vertical-align: top;\n",
       "    }\n",
       "\n",
       "    .dataframe thead th {\n",
       "        text-align: right;\n",
       "    }\n",
       "</style>\n",
       "<table border=\"1\" class=\"dataframe\">\n",
       "  <thead>\n",
       "    <tr style=\"text-align: right;\">\n",
       "      <th></th>\n",
       "      <th>x1-a1</th>\n",
       "      <th>x2-a1</th>\n",
       "      <th>x3-a1</th>\n",
       "      <th>x4-a1</th>\n",
       "      <th>bias-a1</th>\n",
       "      <th>x1-a2</th>\n",
       "      <th>x2-a2</th>\n",
       "      <th>x3-a2</th>\n",
       "      <th>x4-a2</th>\n",
       "      <th>bias-a2</th>\n",
       "    </tr>\n",
       "  </thead>\n",
       "  <tbody>\n",
       "    <tr>\n",
       "      <th>0</th>\n",
       "      <td>6.45294</td>\n",
       "      <td>0.017452</td>\n",
       "      <td>1.582344</td>\n",
       "      <td>2.293046</td>\n",
       "      <td>2.12057</td>\n",
       "      <td>3.951125</td>\n",
       "      <td>12.720648</td>\n",
       "      <td>-19.327801</td>\n",
       "      <td>5.587888</td>\n",
       "      <td>9.382982</td>\n",
       "    </tr>\n",
       "  </tbody>\n",
       "</table>\n",
       "</div>"
      ],
      "text/plain": [
       "     x1-a1     x2-a1     x3-a1     x4-a1  bias-a1     x1-a2      x2-a2  \\\n",
       "0  6.45294  0.017452  1.582344  2.293046  2.12057  3.951125  12.720648   \n",
       "\n",
       "       x3-a2     x4-a2   bias-a2  \n",
       "0 -19.327801  5.587888  9.382982  "
      ]
     },
     "execution_count": 6,
     "metadata": {},
     "output_type": "execute_result"
    }
   ],
   "source": [
    "theta1 = ann.iloc[:,:10]\n",
    "theta1[:1]"
   ]
  },
  {
   "cell_type": "code",
   "execution_count": 7,
   "metadata": {},
   "outputs": [
    {
     "data": {
      "text/html": [
       "<div>\n",
       "<style scoped>\n",
       "    .dataframe tbody tr th:only-of-type {\n",
       "        vertical-align: middle;\n",
       "    }\n",
       "\n",
       "    .dataframe tbody tr th {\n",
       "        vertical-align: top;\n",
       "    }\n",
       "\n",
       "    .dataframe thead th {\n",
       "        text-align: right;\n",
       "    }\n",
       "</style>\n",
       "<table border=\"1\" class=\"dataframe\">\n",
       "  <thead>\n",
       "    <tr style=\"text-align: right;\">\n",
       "      <th></th>\n",
       "      <th>a1-h</th>\n",
       "      <th>a2-h</th>\n",
       "      <th>bias-h</th>\n",
       "    </tr>\n",
       "  </thead>\n",
       "  <tbody>\n",
       "    <tr>\n",
       "      <th>0</th>\n",
       "      <td>0.003064</td>\n",
       "      <td>0.003539</td>\n",
       "      <td>0.795949</td>\n",
       "    </tr>\n",
       "  </tbody>\n",
       "</table>\n",
       "</div>"
      ],
      "text/plain": [
       "       a1-h      a2-h    bias-h\n",
       "0  0.003064  0.003539  0.795949"
      ]
     },
     "execution_count": 7,
     "metadata": {},
     "output_type": "execute_result"
    }
   ],
   "source": [
    "theta2 = ann.iloc[:,10:]\n",
    "\n",
    "theta2[:1]"
   ]
  },
  {
   "cell_type": "code",
   "execution_count": 8,
   "metadata": {},
   "outputs": [],
   "source": [
    "theta2.to_csv(\"theta2.txt\", index=False)"
   ]
  },
  {
   "cell_type": "code",
   "execution_count": 9,
   "metadata": {},
   "outputs": [
    {
     "data": {
      "text/plain": [
       "array([6.45294048, 0.01745243, 1.58234418, 2.29304557, 2.12057013])"
      ]
     },
     "execution_count": 9,
     "metadata": {},
     "output_type": "execute_result"
    }
   ],
   "source": [
    "t = theta1.values.flatten()\n",
    "\n",
    "t[:5]"
   ]
  },
  {
   "cell_type": "code",
   "execution_count": 10,
   "metadata": {},
   "outputs": [],
   "source": [
    "pd.DataFrame(t).to_csv(\"theta1.txt\", sep=',')"
   ]
  },
  {
   "cell_type": "code",
   "execution_count": 11,
   "metadata": {},
   "outputs": [],
   "source": [
    "ans = \"\"\n",
    "\n",
    "for i in t:\n",
    "    ans += str(i) + \", \""
   ]
  }
 ],
 "metadata": {
  "kernelspec": {
   "display_name": "Python 3",
   "language": "python",
   "name": "python3"
  },
  "language_info": {
   "codemirror_mode": {
    "name": "ipython",
    "version": 3
   },
   "file_extension": ".py",
   "mimetype": "text/x-python",
   "name": "python",
   "nbconvert_exporter": "python",
   "pygments_lexer": "ipython3",
   "version": "3.6.5"
  }
 },
 "nbformat": 4,
 "nbformat_minor": 2
}
