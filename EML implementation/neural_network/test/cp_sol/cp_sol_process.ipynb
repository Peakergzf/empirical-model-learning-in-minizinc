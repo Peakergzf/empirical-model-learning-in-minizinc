{
 "cells": [
  {
   "cell_type": "code",
   "execution_count": 2,
   "metadata": {},
   "outputs": [],
   "source": [
    "n = 288\n",
    "m = 48\n",
    "\n",
    "with open(\"sol.txt\", 'r') as f:\n",
    "    line = f.readlines() # [\"0->16, 1->38, 2->6, ...\"]  (only one line))\n",
    "    \n",
    "lst = line[0].split(\", \") # [\"0->16\", \"1->38\", \"2->6\", ...]\n",
    "\n",
    "sol_lst = list(map(lambda x : int(x.split(\"->\")[1]) , lst))  # [16, 38, 6, ...]\n",
    "\n",
    "# sol[i][j] is true iif job i is mapped to core j\n",
    "sol = [[\"true\" if sol_lst[i] == j else \"false\" for j in range(m)] for i in range(n)]\n",
    "\n",
    "ans = \"x = [|\"\n",
    "\n",
    "for i in range(n):\n",
    "    for j in range(m):\n",
    "        ans += sol[i][j].replace(\"'\", '') + ', '  # remove string single quote\n",
    "    ans += \"\\n|\"\n",
    "\n",
    "ans = ans[:-1]  # remove the last '|'\n",
    "ans += \"|];\\n\\n\"\n",
    "\n",
    "with open(\"data.dzn\", 'w') as f:\n",
    "    f.write(ans)"
   ]
  },
  {
   "cell_type": "code",
   "execution_count": 3,
   "metadata": {},
   "outputs": [],
   "source": [
    "with open(\"avgcpi.txt\", 'r') as f:\n",
    "    lines = f.readlines()\n",
    "\n",
    "ans = \"avgcpi = [\"\n",
    "for line in lines:\n",
    "    vals = line.rstrip().split('\\t')\n",
    "    for val in vals:\n",
    "        ans += val + ', '\n",
    "ans = ans[:-2]\n",
    "ans += \"];\"\n",
    "\n",
    "with open(\"data.dzn\", 'a') as f:\n",
    "    f.write(ans)"
   ]
  }
 ],
 "metadata": {
  "kernelspec": {
   "display_name": "Python 3",
   "language": "python",
   "name": "python3"
  },
  "language_info": {
   "codemirror_mode": {
    "name": "ipython",
    "version": 3
   },
   "file_extension": ".py",
   "mimetype": "text/x-python",
   "name": "python",
   "nbconvert_exporter": "python",
   "pygments_lexer": "ipython3",
   "version": "3.6.5"
  }
 },
 "nbformat": 4,
 "nbformat_minor": 2
}
