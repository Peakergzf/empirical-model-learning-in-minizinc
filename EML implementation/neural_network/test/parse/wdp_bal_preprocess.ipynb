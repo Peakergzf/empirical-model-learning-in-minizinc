{
 "cells": [
  {
   "cell_type": "markdown",
   "metadata": {},
   "source": [
    "# Data preprocessing for WDP<sub>bal</sub> model\n",
    "[(original data)](https://bitbucket.org/m_lombardi/eml-aij-2015-resources/src/5c9a3b409ed057a4b86ad34605786fb476190b32/results/scc_ann1_logs/wld_warm_div20-0-101-ls.txt?at=master&fileviewer=file-view-default)"
   ]
  },
  {
   "cell_type": "markdown",
   "metadata": {},
   "source": [
    "## 1. Neighbour cores\n",
    "1) parse **neigh.txt** to a list of lists of neighbour core numbers"
   ]
  },
  {
   "cell_type": "code",
   "execution_count": 1,
   "metadata": {},
   "outputs": [],
   "source": [
    "with open(\"neigh.txt\", 'r') as f:\n",
    "    lines = f.readlines()\n",
    "\n",
    "neighs = [line.split(',')[0].split(': ')[1].split() for line in lines]\n",
    "\n",
    "# \"neighbors of 0: 1 6, number of others: 45\\n\" --- line[i]\n",
    "# \"neighbors of 0: 1 6\"                                         --- .split(',')[0]\n",
    "# \"1 6\"                                                                  --- .split(':')[1]\n",
    "# ['1', '6']                                                              --- neighs[i]"
   ]
  },
  {
   "cell_type": "markdown",
   "metadata": {},
   "source": [
    "2) construct neighbour lookup function `N(k)` in **neigh.mzn**"
   ]
  },
  {
   "cell_type": "code",
   "execution_count": 2,
   "metadata": {},
   "outputs": [],
   "source": [
    "ans = \"set of int: N(int: k) = \\n\"\n",
    "\n",
    "for i in range(len(neighs)):\n",
    "    ns = \"\"  # neighbour core numbers\n",
    "    for n in neighs[i]:\n",
    "        ns += str(int(n) + 1) + ', '\n",
    "    ns = ns[:-2]  # trim ',' and ' '\n",
    "    \n",
    "    if i == len(neighs) - 1:  # else clause\n",
    "        ans += \"else {{ {} }}\\n\".format(ns)\n",
    "        continue\n",
    "    \n",
    "    if i != 0:  # add else to elseif cluse\n",
    "        ans += \"else\"\n",
    "    \n",
    "    ans += \"if k == {0} then {{ {1} }}\\n\".format(i + 1, ns)\n",
    "\n",
    "ans += \"endif;\"\n",
    "\n",
    "with open(\"neigh.mzn\", 'w') as f:\n",
    "    f.write(ans)"
   ]
  },
  {
   "cell_type": "markdown",
   "metadata": {},
   "source": [
    "## 2. Solution\n",
    "1) parse **sol.txt** to a list of integers representing which core to map to"
   ]
  },
  {
   "cell_type": "code",
   "execution_count": 3,
   "metadata": {},
   "outputs": [],
   "source": [
    "n = 288\n",
    "m = 48\n",
    "\n",
    "with open(\"sol.txt\", 'r') as f:\n",
    "    line = f.readlines() # [\"0->16, 1->38, 2->6, ...\"]  (only one line))\n",
    "    \n",
    "lst = line[0].split(\", \") # [\"0->16\", \"1->38\", \"2->6\", ...]\n",
    "\n",
    "sol_lst = list(map(lambda x : int(x.split(\"->\")[1]) , lst))  # [16, 38, 6, ...]"
   ]
  },
  {
   "cell_type": "markdown",
   "metadata": {},
   "source": [
    "2) construct data file **data.dzn** and write 2d mapping array `x` to the file"
   ]
  },
  {
   "cell_type": "code",
   "execution_count": 4,
   "metadata": {},
   "outputs": [],
   "source": [
    "# sol[i][j] is true iif job i is mapped to core j\n",
    "sol = [[\"true\" if sol_lst[i] == j else \"false\" for j in range(m)] for i in range(n)]\n",
    "\n",
    "ans = \"x = [|\"\n",
    "\n",
    "for i in range(n):\n",
    "    for j in range(m):\n",
    "        ans += sol[i][j].replace(\"'\", '') + ', '  # remove string single quote\n",
    "    ans += \"\\n|\"\n",
    "\n",
    "ans = ans[:-1]  # remove the last '|'\n",
    "ans += \"|];\\n\\n\"\n",
    "\n",
    "with open(\"data.dzn\", 'w') as f:\n",
    "    f.write(ans)"
   ]
  },
  {
   "cell_type": "markdown",
   "metadata": {},
   "source": [
    "## 3. CPI values\n",
    "read cpi values from **cpi.txt** and append the 1d array `cpi` to **data.dzn**"
   ]
  },
  {
   "cell_type": "code",
   "execution_count": 5,
   "metadata": {},
   "outputs": [],
   "source": [
    "with open(\"cpi.txt\", 'r') as f:\n",
    "    line = f.readlines() # (only one line)\n",
    "\n",
    "cpi = line[0].rstrip() # remove '\\n'\n",
    "\n",
    "ans = \"cpi = [ {} ];\\n\\n\".format(cpi)\n",
    "\n",
    "with open(\"data.dzn\", 'a') as f:\n",
    "    f.write(ans)"
   ]
  },
  {
   "cell_type": "markdown",
   "metadata": {},
   "source": [
    "## 3. Neural network\n",
    "<img src=\"ann1_layout.png\" alt=\"ann1_layout\" style=\"width:300px;\" align=\"left\"/>"
   ]
  },
  {
   "cell_type": "markdown",
   "metadata": {},
   "source": [
    "1) read from **ann1.txt** and split `theta1` and `theat2` as two Pandas DataFrames"
   ]
  },
  {
   "cell_type": "code",
   "execution_count": 6,
   "metadata": {},
   "outputs": [],
   "source": [
    "import pandas as pd"
   ]
  },
  {
   "cell_type": "code",
   "execution_count": 7,
   "metadata": {},
   "outputs": [
    {
     "data": {
      "text/html": [
       "<div>\n",
       "<style scoped>\n",
       "    .dataframe tbody tr th:only-of-type {\n",
       "        vertical-align: middle;\n",
       "    }\n",
       "\n",
       "    .dataframe tbody tr th {\n",
       "        vertical-align: top;\n",
       "    }\n",
       "\n",
       "    .dataframe thead th {\n",
       "        text-align: right;\n",
       "    }\n",
       "</style>\n",
       "<table border=\"1\" class=\"dataframe\">\n",
       "  <thead>\n",
       "    <tr style=\"text-align: right;\">\n",
       "      <th></th>\n",
       "      <th># of inputs</th>\n",
       "      <th># of hidden neurons</th>\n",
       "      <th># of output neurons</th>\n",
       "      <th>x1-a1</th>\n",
       "      <th>x2-a1</th>\n",
       "      <th>x3-a1</th>\n",
       "      <th>x4-a1</th>\n",
       "      <th>bias-a1</th>\n",
       "      <th>x1-a2</th>\n",
       "      <th>x2-a2</th>\n",
       "      <th>x3-a2</th>\n",
       "      <th>x4-a2</th>\n",
       "      <th>bias-a2</th>\n",
       "      <th>a1-h</th>\n",
       "      <th>a2-h</th>\n",
       "      <th>bias-h</th>\n",
       "    </tr>\n",
       "  </thead>\n",
       "  <tbody>\n",
       "    <tr>\n",
       "      <th>0</th>\n",
       "      <td>4</td>\n",
       "      <td>2</td>\n",
       "      <td>1</td>\n",
       "      <td>6.45294</td>\n",
       "      <td>0.017452</td>\n",
       "      <td>1.58234</td>\n",
       "      <td>2.29305</td>\n",
       "      <td>2.12057</td>\n",
       "      <td>3.95113</td>\n",
       "      <td>12.7206</td>\n",
       "      <td>-19.3278</td>\n",
       "      <td>5.58789</td>\n",
       "      <td>9.38298</td>\n",
       "      <td>0.003064</td>\n",
       "      <td>0.003539</td>\n",
       "      <td>0.795949</td>\n",
       "    </tr>\n",
       "  </tbody>\n",
       "</table>\n",
       "</div>"
      ],
      "text/plain": [
       "   # of inputs  # of hidden neurons  # of output neurons    x1-a1     x2-a1  \\\n",
       "0            4                    2                    1  6.45294  0.017452   \n",
       "\n",
       "     x3-a1    x4-a1  bias-a1    x1-a2    x2-a2    x3-a2    x4-a2  bias-a2  \\\n",
       "0  1.58234  2.29305  2.12057  3.95113  12.7206 -19.3278  5.58789  9.38298   \n",
       "\n",
       "       a1-h      a2-h    bias-h  \n",
       "0  0.003064  0.003539  0.795949  "
      ]
     },
     "execution_count": 7,
     "metadata": {},
     "output_type": "execute_result"
    }
   ],
   "source": [
    "ann = pd.read_csv(\"ann1.txt\", sep=\",\", header=None)\n",
    "\n",
    "ann.columns = [\"# of inputs\", \"# of hidden neurons\", \"# of output neurons\",\n",
    "                          \"x1-a1\", \"x2-a1\", \"x3-a1\", \"x4-a1\", \"bias-a1\", \n",
    "                          \"x1-a2\", \"x2-a2\", \"x3-a2\", \"x4-a2\", \"bias-a2\", \n",
    "                          \"a1-h\", \"a2-h\", \"bias-h\"]\n",
    "\n",
    "ann[:1]"
   ]
  },
  {
   "cell_type": "code",
   "execution_count": 8,
   "metadata": {},
   "outputs": [],
   "source": [
    "# remove the first three columns\n",
    "ann = ann.iloc[:,3:]\n",
    "\n",
    "# split theta1 and theta2\n",
    "theta1 = ann.iloc[:,:10]\n",
    "theta2 = ann.iloc[:,10:]"
   ]
  },
  {
   "cell_type": "code",
   "execution_count": 9,
   "metadata": {},
   "outputs": [
    {
     "data": {
      "text/html": [
       "<div>\n",
       "<style scoped>\n",
       "    .dataframe tbody tr th:only-of-type {\n",
       "        vertical-align: middle;\n",
       "    }\n",
       "\n",
       "    .dataframe tbody tr th {\n",
       "        vertical-align: top;\n",
       "    }\n",
       "\n",
       "    .dataframe thead th {\n",
       "        text-align: right;\n",
       "    }\n",
       "</style>\n",
       "<table border=\"1\" class=\"dataframe\">\n",
       "  <thead>\n",
       "    <tr style=\"text-align: right;\">\n",
       "      <th></th>\n",
       "      <th>x1-a1</th>\n",
       "      <th>x2-a1</th>\n",
       "      <th>x3-a1</th>\n",
       "      <th>x4-a1</th>\n",
       "      <th>bias-a1</th>\n",
       "      <th>x1-a2</th>\n",
       "      <th>x2-a2</th>\n",
       "      <th>x3-a2</th>\n",
       "      <th>x4-a2</th>\n",
       "      <th>bias-a2</th>\n",
       "    </tr>\n",
       "  </thead>\n",
       "  <tbody>\n",
       "    <tr>\n",
       "      <th>47</th>\n",
       "      <td>1.76683</td>\n",
       "      <td>-0.336959</td>\n",
       "      <td>-0.116305</td>\n",
       "      <td>-0.069643</td>\n",
       "      <td>-1.62311</td>\n",
       "      <td>2.51027</td>\n",
       "      <td>5.65249</td>\n",
       "      <td>0.180271</td>\n",
       "      <td>0.065705</td>\n",
       "      <td>7.97995</td>\n",
       "    </tr>\n",
       "  </tbody>\n",
       "</table>\n",
       "</div>"
      ],
      "text/plain": [
       "      x1-a1     x2-a1     x3-a1     x4-a1  bias-a1    x1-a2    x2-a2  \\\n",
       "47  1.76683 -0.336959 -0.116305 -0.069643 -1.62311  2.51027  5.65249   \n",
       "\n",
       "       x3-a2     x4-a2  bias-a2  \n",
       "47  0.180271  0.065705  7.97995  "
      ]
     },
     "execution_count": 9,
     "metadata": {},
     "output_type": "execute_result"
    }
   ],
   "source": [
    "theta1[47:]"
   ]
  },
  {
   "cell_type": "code",
   "execution_count": 10,
   "metadata": {},
   "outputs": [
    {
     "data": {
      "text/html": [
       "<div>\n",
       "<style scoped>\n",
       "    .dataframe tbody tr th:only-of-type {\n",
       "        vertical-align: middle;\n",
       "    }\n",
       "\n",
       "    .dataframe tbody tr th {\n",
       "        vertical-align: top;\n",
       "    }\n",
       "\n",
       "    .dataframe thead th {\n",
       "        text-align: right;\n",
       "    }\n",
       "</style>\n",
       "<table border=\"1\" class=\"dataframe\">\n",
       "  <thead>\n",
       "    <tr style=\"text-align: right;\">\n",
       "      <th></th>\n",
       "      <th>a1-h</th>\n",
       "      <th>a2-h</th>\n",
       "      <th>bias-h</th>\n",
       "    </tr>\n",
       "  </thead>\n",
       "  <tbody>\n",
       "    <tr>\n",
       "      <th>47</th>\n",
       "      <td>-0.050054</td>\n",
       "      <td>0.457869</td>\n",
       "      <td>0.308072</td>\n",
       "    </tr>\n",
       "  </tbody>\n",
       "</table>\n",
       "</div>"
      ],
      "text/plain": [
       "        a1-h      a2-h    bias-h\n",
       "47 -0.050054  0.457869  0.308072"
      ]
     },
     "execution_count": 10,
     "metadata": {},
     "output_type": "execute_result"
    }
   ],
   "source": [
    "theta2[47:]"
   ]
  },
  {
   "cell_type": "markdown",
   "metadata": {},
   "source": [
    "2) write `theta1` and `theta2` to **data.dzn** file"
   ]
  },
  {
   "cell_type": "code",
   "execution_count": 11,
   "metadata": {},
   "outputs": [],
   "source": [
    "# flat theta1 for minizinc array3d constructor\n",
    "theta1_1d = theta1.values.flatten().tolist()  # (a list of float)\n",
    "\n",
    "ans = \"theta1 = array3d(1..m,aRange,xRangeExd, [\\n\"\n",
    "for val in theta1_1d:\n",
    "    ans += \"{:8.6f}\".format(val) + ', '\n",
    "ans = ans[:-2] # remove the last ',' and ' '\n",
    "ans += \"]);\\n\\n\"\n",
    "\n",
    "with open(\"data.dzn\", 'a') as f:\n",
    "    f.write(ans)"
   ]
  },
  {
   "cell_type": "code",
   "execution_count": 12,
   "metadata": {},
   "outputs": [],
   "source": [
    "# convert from df to python 2d list\n",
    "theta2_2d = theta2.values.tolist()\n",
    "\n",
    "ans = \"theta2 = \\n[\"\n",
    "for lst in theta2_2d:\n",
    "    ans += \"| \"\n",
    "    for val in lst:\n",
    "        ans += \"{:8.6f}\".format(val) + ', '\n",
    "    ans = ans[:-2] # remove the last ',' and ' '\n",
    "    ans += '\\n'\n",
    "ans = ans[:-1] # remove the last '\\n'\n",
    "ans += \"|];\\n\\n\"\n",
    "\n",
    "with open(\"data.dzn\", 'a') as f:\n",
    "    f.write(ans)"
   ]
  },
  {
   "cell_type": "markdown",
   "metadata": {},
   "source": [
    "write constants to **data.dzn**"
   ]
  },
  {
   "cell_type": "code",
   "execution_count": 13,
   "metadata": {},
   "outputs": [],
   "source": [
    "constants = \"n = 288; \\nm = 48; \\nh = 8; \\ninput_layer_size = 4; \\nhidden_layer_size = 2; \\n\\n\"\n",
    "\n",
    "with open(\"data.dzn\", 'a') as f:\n",
    "    f.write(constants)"
   ]
  },
  {
   "cell_type": "markdown",
   "metadata": {},
   "source": [
    "write `avgcpi` to **data.dzn** (to verify the solution)"
   ]
  },
  {
   "cell_type": "code",
   "execution_count": 14,
   "metadata": {},
   "outputs": [],
   "source": [
    "with open(\"avgcpi.txt\", 'r') as f:\n",
    "    lines = f.readlines()\n",
    "\n",
    "ans = \"avgcpi = [\"\n",
    "for line in lines:\n",
    "    vals = line.rstrip().split('\\t')\n",
    "    for val in vals:\n",
    "        ans += val + ', '\n",
    "ans = ans[:-2]\n",
    "ans += \"];\"\n",
    "\n",
    "with open(\"data.dzn\", 'a') as f:\n",
    "    f.write(ans)"
   ]
  },
  {
   "cell_type": "markdown",
   "metadata": {},
   "source": [
    "calculate ann to verify the solution"
   ]
  },
  {
   "cell_type": "code",
   "execution_count": 56,
   "metadata": {},
   "outputs": [
    {
     "name": "stdout",
     "output_type": "stream",
     "text": [
      "[1, 6]\n",
      "[0, 2, 6, 7]\n",
      "[1, 3, 7, 8]\n",
      "[2, 4, 8, 9]\n",
      "[3, 5, 9, 10]\n",
      "[4, 10, 11]\n",
      "[0, 1, 7, 12]\n",
      "[1, 2, 6, 8, 12, 13]\n",
      "[2, 3, 7, 9, 13, 14]\n",
      "[3, 4, 8, 10, 14, 15]\n",
      "[4, 5, 9, 11, 15, 16]\n",
      "[5, 10, 16, 17]\n",
      "[6, 7, 13, 18]\n",
      "[7, 8, 12, 14, 18, 19]\n",
      "[8, 9, 13, 15, 19, 20]\n",
      "[9, 10, 14, 16, 20, 21]\n",
      "[10, 11, 15, 17, 21, 22]\n",
      "[11, 16, 22, 23]\n",
      "[12, 13, 19, 24]\n",
      "[13, 14, 18, 20, 24, 25]\n",
      "[14, 15, 19, 21, 25, 26]\n",
      "[15, 16, 20, 22, 26, 27]\n",
      "[16, 17, 21, 23, 27, 28]\n",
      "[17, 22, 28, 29]\n",
      "[18, 19, 25, 30]\n",
      "[19, 20, 24, 26, 30, 31]\n",
      "[20, 21, 25, 27, 31, 32]\n",
      "[21, 22, 26, 28, 32, 33]\n",
      "[22, 23, 27, 29, 33, 34]\n",
      "[23, 28, 34, 35]\n",
      "[24, 25, 31, 36]\n",
      "[25, 26, 30, 32, 36, 37]\n",
      "[26, 27, 31, 33, 37, 38]\n",
      "[27, 28, 32, 34, 38, 39]\n",
      "[28, 29, 33, 35, 39, 40]\n",
      "[29, 34, 40, 41]\n",
      "[30, 31, 37, 42]\n",
      "[31, 32, 36, 38, 42, 43]\n",
      "[32, 33, 37, 39, 43, 44]\n",
      "[33, 34, 38, 40, 44, 45]\n",
      "[34, 35, 39, 41, 45, 46]\n",
      "[35, 40, 46, 47]\n",
      "[36, 37, 43]\n",
      "[37, 38, 42, 44]\n",
      "[38, 39, 43, 45]\n",
      "[39, 40, 44, 46]\n",
      "[40, 41, 45, 47]\n",
      "[41, 46]\n"
     ]
    }
   ],
   "source": [
    "neigh_idxs  = [list(map(int, i)) for i in neighs]\n",
    "for idxs in neigh_idxs:\n",
    "    print(idxs)"
   ]
  },
  {
   "cell_type": "code",
   "execution_count": 55,
   "metadata": {},
   "outputs": [
    {
     "name": "stdout",
     "output_type": "stream",
     "text": [
      "00: 0.500000, 0.896481, 0.500000, 2.142660, 0.779448, 0.653012, (avg=0.911934, min=0.500000, neigh=2.420590)\n",
      "01: 3.005530, 1.451600, 2.101520, 0.500000, 1.444350, 0.917113, (avg=1.570019, min=0.500000, neigh=2.225650)\n",
      "02: 1.178100, 0.911030, 2.270200, 1.501400, 2.214300, 2.205120, (avg=1.713358, min=0.911030, neigh=2.357438)\n",
      "03: 1.537860, 1.799310, 0.899128, 0.817779, 0.732482, 0.617474, (avg=1.067339, min=0.617474, neigh=1.788155)\n",
      "04: 1.323270, 1.835150, 2.334760, 1.054050, 3.224610, 0.509979, (avg=1.713637, min=0.509979, neigh=1.660322)\n",
      "05: 2.619680, 1.254840, 2.690010, 5.499210, 0.500000, 1.331590, (avg=2.315888, min=0.500000, neigh=1.908073)\n",
      "06: 2.334890, 0.964015, 2.483130, 0.713665, 1.633940, 1.659520, (avg=1.631527, min=0.713665, neigh=2.316640)\n",
      "07: 1.980320, 5.512690, 2.138800, 2.161600, 2.306450, 2.092480, (avg=2.698723, min=1.980320, neigh=2.808528)\n",
      "08: 1.878710, 4.039730, 4.526440, 1.062100, 4.196510, 1.216800, (avg=2.820048, min=1.062100, neigh=2.414002)\n",
      "09: 1.953950, 10.04370, 2.116060, 2.408190, 2.976650, 2.304500, (avg=3.633842, min=1.953950, neigh=1.508772)\n",
      "10: 2.097860, 2.420720, 12.41930, 2.411860, 3.137350, 2.101010, (avg=4.098017, min=2.097860, neigh=1.136847)\n",
      "11: 1.230400, 1.341520, 2.363600, 1.233690, 1.215750, 1.399230, (avg=1.464032, min=1.215750, neigh=1.476832)\n",
      "12: 0.535891, 1.461670, 1.245360, 1.124460, 0.580633, 0.500000, (avg=0.908002, min=0.500000, neigh=3.244047)\n",
      "13: 3.922000, 2.286680, 2.369310, 11.40380, 2.117950, 2.279780, (avg=4.063253, min=2.117950, neigh=2.126527)\n",
      "14: 2.190010, 2.783840, 8.587900, 5.959850, 3.105350, 2.580690, (avg=4.201273, min=2.190010, neigh=2.155874)\n",
      "15: 2.768870, 1.976480, 16.86110, 2.170430, 2.085650, 1.881910, (avg=4.624073, min=1.881910, neigh=1.092190)\n",
      "16: 2.325280, 2.387860, 2.310260, 3.206330, 3.150690, 3.130400, (avg=2.751803, min=2.310260, neigh=1.662642)\n",
      "17: 0.500000, 0.850599, 1.720550, 0.500000, 2.219150, 1.747900, (avg=1.256367, min=0.500000, neigh=1.676960)\n",
      "18: 0.692256, 1.072560, 1.068070, 1.069230, 0.500000, 0.810541, (avg=0.868776, min=0.500000, neigh=3.166822)\n",
      "19: 1.708300, 2.457950, 1.743980, 2.419300, 17.40580, 2.517230, (avg=4.708760, min=1.708300, neigh=2.342100)\n",
      "20: 2.144570, 2.068870, 13.81690, 1.977770, 1.861460, 1.840520, (avg=3.951682, min=1.840520, neigh=1.397415)\n",
      "21: 2.795660, 1.620440, 10.32220, 2.291300, 2.077830, 15.55910, (avg=5.777755, min=1.620440, neigh=1.072204)\n",
      "22: 1.983810, 3.246430, 3.968540, 10.87160, 4.945190, 1.898260, (avg=4.485638, min=1.898260, neigh=1.987467)\n",
      "23: 0.631348, 2.966900, 2.519890, 1.772860, 2.041070, 1.314030, (avg=1.874350, min=0.631348, neigh=1.918537)\n",
      "24: 1.207660, 1.772290, 0.500000, 4.683930, 2.108250, 0.849226, (avg=1.853559, min=0.500000, neigh=2.589195)\n",
      "25: 1.395030, 2.387020, 11.43580, 12.76020, 2.568290, 2.238600, (avg=5.464157, min=1.395030, neigh=1.793349)\n",
      "26: 3.221070, 2.488130, 10.58400, 2.499250, 1.984050, 4.449810, (avg=4.204385, min=1.984050, neigh=1.534316)\n",
      "27: 1.903490, 1.661250, 5.291540, 2.981030, 12.64790, 2.544930, (avg=4.505023, min=1.661250, neigh=1.474706)\n",
      "28: 2.934620, 3.584830, 2.572480, 2.641100, 6.652280, 3.221710, (avg=3.601170, min=2.325280, neigh=2.360107)\n",
      "29: 1.392190, 1.872070, 1.456770, 0.707084, 0.500000, 2.135800, (avg=1.343986, min=0.500000, neigh=2.236508)\n",
      "30: 2.015600, 1.436260, 2.095190, 0.500000, 2.232760, 1.743610, (avg=1.670570, min=0.500000, neigh=2.030183)\n",
      "31: 2.351710, 2.490030, 4.435300, 2.960280, 6.946390, 2.423970, (avg=3.601280, min=2.325280, neigh=1.894995)\n",
      "32: 2.770200, 3.191850, 12.31380, 21.19070, 5.739790, 2.493310, (avg=7.949942, min=2.325280, neigh=1.810293)\n",
      "33: 2.624080, 3.325510, 2.243910, 3.110180, 11.62570, 2.178400, (avg=4.184630, min=2.178400, neigh=1.617028)\n",
      "34: 2.560050, 2.642300, 1.818110, 5.725280, 2.007430, 9.399860, (avg=4.025505, min=1.818110, neigh=1.971188)\n",
      "35: 0.508952, 0.711065, 0.869259, 0.812887, 1.113170, 0.839979, (avg=0.809219, min=0.508952, neigh=2.713272)\n",
      "36: 1.409940, 2.146810, 1.696280, 2.380410, 2.332690, 1.844590, (avg=1.968453, min=1.409940, neigh=1.929237)\n",
      "37: 0.500000, 2.691080, 3.220520, 15.84710, 14.74850, 2.414930, (avg=6.570355, min=0.500000, neigh=1.665150)\n",
      "38: 2.696610, 2.211380, 2.902780, 2.458560, 2.436320, 3.851270, (avg=2.759487, min=2.211380, neigh=1.662782)\n",
      "39: 2.630350, 2.765810, 2.637150, 2.560380, 3.063830, 9.413300, (avg=3.845137, min=2.325280, neigh=2.213200)\n",
      "40: 2.412880, 2.607670, 2.629420, 10.16070, 2.093380, 1.966700, (avg=3.645125, min=1.966700, neigh=1.919258)\n",
      "41: 0.938447, 1.630340, 1.620560, 0.714263, 0.989694, 0.553682, (avg=1.074498, min=0.553682, neigh=2.310397)\n",
      "42: 1.254760, 1.460120, 0.500000, 1.016000, 0.529936, 1.689830, (avg=1.075108, min=0.500000, neigh=2.053060)\n",
      "43: 2.238920, 9.387350, 11.20420, 1.828050, 1.102610, 1.465030, (avg=4.537693, min=1.102610, neigh=1.825225)\n",
      "44: 1.594110, 3.898310, 2.636460, 5.498330, 4.238160, 2.076210, (avg=3.323597, min=1.594110, neigh=1.251158)\n",
      "45: 3.568970, 2.407960, 2.407380, 2.321740, 2.290960, 2.297100, (avg=2.549018, min=2.290960, neigh=1.954270)\n",
      "46: 2.661580, 1.202220, 1.725110, 11.31960, 1.799490, 1.768830, (avg=3.412805, min=1.202220, neigh=2.451153)\n",
      "47: 0.843693, 0.500000, 0.923478, 0.544909, 0.589622, 2.089280, (avg=0.915164, min=0.500000, neigh=2.452305)\n"
     ]
    }
   ],
   "source": [
    "cpi_lst = cpi.split(\", \")\n",
    "\n",
    "# for each core, the numbers of jobs mapped on this core\n",
    "core_jobs = [[] for _ in range(m)] \n",
    "for i in range(n):\n",
    "    core_jobs[sol_lst[i]].append(i)\n",
    "\n",
    "for i in range(m): # for each core\n",
    "    print(('0' if i < 10 else '')+str(i) + \": \", end=\"\") # print core number\n",
    "    \n",
    "    cpi_idxs = core_jobs[i] # list of job idxs on this core\n",
    "    assert len(cpi_idxs) == n/m # 6\n",
    "    \n",
    "    total = 0\n",
    "    for idx in neigh_idxs[i]:\n",
    "        total += float(cpi_lst[idx])\n",
    "    neigh_avg = total / (float)(len(neigh_idxs[i]))\n",
    "        \n",
    "    total = 0\n",
    "    min_cpi = float(cpi_lst[0])\n",
    "    for idx in cpi_idxs: # for each job idx on this core\n",
    "        cur_cpi = float(cpi_lst[idx])\n",
    "        min_cpi = min(min_cpi, cur_cpi)\n",
    "        total += cur_cpi\n",
    "        print(cpi_lst[idx] + ('0' * (8 - len(cpi_lst[idx]))), end=\", \")\n",
    "        \n",
    "    print(\"(avg={:8.6f}, min={:8.6f}, neigh={:8.6f})\".format(total / 6.0, min_cpi, neigh_avg))"
   ]
  },
  {
   "cell_type": "code",
   "execution_count": 59,
   "metadata": {},
   "outputs": [],
   "source": [
    "res = \"\"\"\n",
    "min cpi = 0.5\n",
    "max cpi = 21.1907\n",
    "\n",
    "avg cpi map:\n",
    "\t0.91193, 1.57002, 1.71336, 1.06734, 1.71364, 2.31589\n",
    "\t1.63153, 2.69872, 2.82005, 3.63384, 4.09801, 1.46403\n",
    "\t0.90800, 4.06325, 4.20127, 4.62407, 2.75180, 1.25637\n",
    "\t0.86878, 4.70876, 3.95169, 5.77777, 4.48564, 1.87435\n",
    "\t1.85356, 5.46415, 4.20439, 4.50503, 3.60117, 1.34399\n",
    "\t1.67057, 3.60128, 7.94994, 4.18464, 4.02550, 0.80922\n",
    "\t1.96845, 6.57037, 2.75949, 3.84514, 3.64512, 1.07450\n",
    "\t1.07511, 4.53770, 3.32360, 2.54902, 3.41280, 0.91516\n",
    "\t\n",
    "min cpi:\n",
    "\t0.50000, 0.50000, 0.91103, 0.61747, 0.50998, 0.50000\n",
    "\t0.71366, 1.98032, 1.06210, 1.95395, 2.09786, 1.21575\n",
    "\t0.50000, 2.11795, 2.19001, 1.88191, 2.31026, 0.50000\n",
    "\t0.50000, 1.70830, 1.84052, 1.62044, 1.89826, 0.63135\n",
    "\t0.50000, 1.39503, 1.98405, 1.66125, 2.57248, 0.50000\n",
    "\t0.50000, 2.35171, 2.49331, 2.17840, 1.81811, 0.50895\n",
    "\t1.40994, 0.50000, 2.21138, 2.56038, 1.96670, 0.55368\n",
    "\t0.50000, 1.10261, 1.59411, 2.29096, 1.20222, 0.50000\n",
    "\t\n",
    "neighbor avg cpi:\n",
    "\t1.60078, 1.73889, 2.03903, 2.47022, 2.77877, 2.42523\n",
    "\t1.52217, 2.11770, 2.89630, 3.08740, 2.75054, 2.60552\n",
    "\t2.31557, 2.70093, 3.96694, 4.06906, 3.61765, 2.64396\n",
    "\t2.88339, 3.40045, 4.83007, 4.08710, 3.29441, 2.67179\n",
    "\t3.17806, 3.33171, 5.20831, 5.03392, 3.40319, 2.57756\n",
    "\t3.22186, 4.63798, 4.30420, 4.44771, 2.90488, 2.52228\n",
    "\t3.22933, 3.64866, 5.06857, 3.41456, 2.61936, 2.19558\n",
    "\t4.35884, 3.43214, 3.42284, 3.55667, 2.04595, 2.24365\n",
    "\t\n",
    "other avg cpi:\n",
    "\t3.10859, 3.15057, 3.11931, 3.09423, 3.05050, 3.05474\n",
    "\t3.16930, 3.13647, 3.01957, 2.97175, 3.00973, 3.07242\n",
    "\t3.11232, 3.01783, 2.82920, 2.80394, 2.91567, 3.07367\n",
    "\t3.06041, 2.89972, 2.70897, 2.77316, 2.92068, 3.05671\n",
    "\t3.01010, 2.89136, 2.64746, 2.66564, 2.92633, 3.07781\n",
    "\t3.01028, 2.74563, 2.68841, 2.75925, 2.98891, 3.09539\n",
    "\t3.00266, 2.81799, 2.70315, 2.91872, 3.03997, 3.11961\n",
    "\t2.95110, 2.92404, 2.95314, 2.95871, 3.07915, 3.07995\n",
    "\t***********************\n",
    "efficiency:\n",
    "\t0.66546, 0.66606, 0.66979, 0.66599, 0.29493, 0.68024\n",
    "\t0.66401, 0.66818, 0.66814, 0.67021, 0.66506, 0.66727\n",
    "\t-0.04900, 0.66852, 0.66947, -0.99980, 0.66660, 0.66765\n",
    "\t0.69087, 0.66327, 0.67032, 0.66495, 0.67048, 0.66726\n",
    "\t0.66590, 0.66927, 0.63690, 0.80415, 0.67002, 0.66619\n",
    "\t0.66941, 0.66928, 0.66785, 0.66425, 0.67060, 0.66642\n",
    "\t0.66702, 0.67027, -0.99779, 0.67304, 0.66845, 0.66708\n",
    "\t0.97427, 0.66263, 0.67009, 0.66475, 0.66771, 0.66098\n",
    "\t\n",
    "worst-case core efficiency: -0.999800686676253\n",
    "\"\"\""
   ]
  },
  {
   "cell_type": "markdown",
   "metadata": {},
   "source": [
    "todo:\n",
    " - fix neigh (not avg of cpi, but avg of avgcpi, ,so use dt to store them, instead of just print)\n",
    " - add other\n",
    " - add forward propagation"
   ]
  }
 ],
 "metadata": {
  "kernelspec": {
   "display_name": "Python 3",
   "language": "python",
   "name": "python3"
  },
  "language_info": {
   "codemirror_mode": {
    "name": "ipython",
    "version": 3
   },
   "file_extension": ".py",
   "mimetype": "text/x-python",
   "name": "python",
   "nbconvert_exporter": "python",
   "pygments_lexer": "ipython3",
   "version": "3.6.5"
  }
 },
 "nbformat": 4,
 "nbformat_minor": 2
}
