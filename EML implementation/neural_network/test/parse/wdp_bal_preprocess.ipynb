{
 "cells": [
  {
   "cell_type": "markdown",
   "metadata": {},
   "source": [
    "# Data preprocessing for WDP<sub>bal</sub> model\n",
    "[(original data)](https://bitbucket.org/m_lombardi/eml-aij-2015-resources/src/5c9a3b409ed057a4b86ad34605786fb476190b32/results/scc_ann1_logs/wld_warm_div20-0-101-ls.txt?at=master&fileviewer=file-view-default)"
   ]
  },
  {
   "cell_type": "markdown",
   "metadata": {},
   "source": [
    "## 1. Neighbour cores\n",
    "1) parse **neigh.txt** to a list of lists of neighbour core numbers"
   ]
  },
  {
   "cell_type": "code",
   "execution_count": 1,
   "metadata": {},
   "outputs": [],
   "source": [
    "with open(\"neigh.txt\", 'r') as f:\n",
    "    lines = f.readlines()\n",
    "\n",
    "neighs = [line.split(',')[0].split(': ')[1].split() for line in lines]\n",
    "\n",
    "# \"neighbors of 0: 1 6, number of others: 45\\n\" --- line[i]\n",
    "# \"neighbors of 0: 1 6\"                                         --- .split(',')[0]\n",
    "# \"1 6\"                                                                  --- .split(':')[1]\n",
    "# ['1', '6']                                                              --- neighs[i]"
   ]
  },
  {
   "cell_type": "markdown",
   "metadata": {},
   "source": [
    "2) construct neighbour lookup function `N(k)` in **neigh.mzn**"
   ]
  },
  {
   "cell_type": "code",
   "execution_count": 2,
   "metadata": {},
   "outputs": [],
   "source": [
    "ans = \"set of int: N(int: k) = \\n\"\n",
    "\n",
    "for i in range(len(neighs)):\n",
    "    ns = \"\"  # neighbour core numbers\n",
    "    for n in neighs[i]:\n",
    "        ns += str(int(n) + 1) + ', '\n",
    "    ns = ns[:-2]  # trim ',' and ' '\n",
    "    \n",
    "    if i == len(neighs) - 1:  # else clause\n",
    "        ans += \"else {{ {} }}\\n\".format(ns)\n",
    "        continue\n",
    "    \n",
    "    if i != 0:  # add else to elseif cluse\n",
    "        ans += \"else\"\n",
    "    \n",
    "    ans += \"if k == {0} then {{ {1} }}\\n\".format(i + 1, ns)\n",
    "\n",
    "ans += \"endif;\"\n",
    "\n",
    "with open(\"neigh.mzn\", 'w') as f:\n",
    "    f.write(ans)"
   ]
  },
  {
   "cell_type": "markdown",
   "metadata": {},
   "source": [
    "## 2. Solution\n",
    "1) parse **sol.txt** to a list of integers representing which core to map to"
   ]
  },
  {
   "cell_type": "code",
   "execution_count": 3,
   "metadata": {},
   "outputs": [],
   "source": [
    "n = 288\n",
    "m = 48\n",
    "\n",
    "with open(\"sol.txt\", 'r') as f:\n",
    "    line = f.readlines() # [\"0->16, 1->38, 2->6, ...\"]  (only one line))\n",
    "    \n",
    "lst = line[0].split(\", \") # [\"0->16\", \"1->38\", \"2->6\", ...]\n",
    "\n",
    "sol_lst = list(map(lambda x : int(x.split(\"->\")[1]) , lst))  # [16, 38, 6, ...]"
   ]
  },
  {
   "cell_type": "markdown",
   "metadata": {},
   "source": [
    "2) construct data file **data.dzn** and write 2d mapping array `x` to the file"
   ]
  },
  {
   "cell_type": "code",
   "execution_count": 4,
   "metadata": {},
   "outputs": [],
   "source": [
    "# sol[i][j] is true iif job i is mapped to core j\n",
    "sol = [[\"true\" if sol_lst[i] == j else \"false\" for j in range(m)] for i in range(n)]\n",
    "\n",
    "ans = \"x = [|\"\n",
    "\n",
    "for i in range(n):\n",
    "    for j in range(m):\n",
    "        ans += sol[i][j].replace(\"'\", '') + ', '  # remove string single quote\n",
    "    ans += \"\\n|\"\n",
    "\n",
    "ans = ans[:-1]  # remove the last '|'\n",
    "ans += \"|];\\n\\n\"\n",
    "\n",
    "with open(\"data.dzn\", 'w') as f:\n",
    "    f.write(ans)"
   ]
  },
  {
   "cell_type": "markdown",
   "metadata": {},
   "source": [
    "## 3. CPI values\n",
    "read cpi values from **cpi.txt** and append the 1d array `cpi` to **data.dzn**"
   ]
  },
  {
   "cell_type": "code",
   "execution_count": 5,
   "metadata": {},
   "outputs": [],
   "source": [
    "with open(\"cpi.txt\", 'r') as f:\n",
    "    line = f.readlines() # (only one line)\n",
    "\n",
    "cpi = line[0].rstrip() # remove '\\n'\n",
    "\n",
    "ans = \"cpi = [ {} ];\\n\\n\".format(cpi)\n",
    "\n",
    "with open(\"data.dzn\", 'a') as f:\n",
    "    f.write(ans)"
   ]
  },
  {
   "cell_type": "markdown",
   "metadata": {},
   "source": [
    "## 3. Neural network\n",
    "<img src=\"ann1_layout.png\" alt=\"ann1_layout\" style=\"width:400px;\" align=\"left\"/>"
   ]
  },
  {
   "cell_type": "markdown",
   "metadata": {},
   "source": [
    "1) read from **ann1.txt** and split `theta1` and `theat2` as two Pandas DataFrames"
   ]
  },
  {
   "cell_type": "code",
   "execution_count": 6,
   "metadata": {},
   "outputs": [],
   "source": [
    "import pandas as pd"
   ]
  },
  {
   "cell_type": "code",
   "execution_count": 7,
   "metadata": {},
   "outputs": [
    {
     "data": {
      "text/html": [
       "<div>\n",
       "<style scoped>\n",
       "    .dataframe tbody tr th:only-of-type {\n",
       "        vertical-align: middle;\n",
       "    }\n",
       "\n",
       "    .dataframe tbody tr th {\n",
       "        vertical-align: top;\n",
       "    }\n",
       "\n",
       "    .dataframe thead th {\n",
       "        text-align: right;\n",
       "    }\n",
       "</style>\n",
       "<table border=\"1\" class=\"dataframe\">\n",
       "  <thead>\n",
       "    <tr style=\"text-align: right;\">\n",
       "      <th></th>\n",
       "      <th># of inputs</th>\n",
       "      <th># of hidden neurons</th>\n",
       "      <th># of output neurons</th>\n",
       "      <th>x1-a1</th>\n",
       "      <th>x2-a1</th>\n",
       "      <th>x3-a1</th>\n",
       "      <th>x4-a1</th>\n",
       "      <th>bias-a1</th>\n",
       "      <th>x1-a2</th>\n",
       "      <th>x2-a2</th>\n",
       "      <th>x3-a2</th>\n",
       "      <th>x4-a2</th>\n",
       "      <th>bias-a2</th>\n",
       "      <th>a1-h</th>\n",
       "      <th>a2-h</th>\n",
       "      <th>bias-h</th>\n",
       "    </tr>\n",
       "  </thead>\n",
       "  <tbody>\n",
       "    <tr>\n",
       "      <th>0</th>\n",
       "      <td>4</td>\n",
       "      <td>2</td>\n",
       "      <td>1</td>\n",
       "      <td>6.45294</td>\n",
       "      <td>0.017452</td>\n",
       "      <td>1.58234</td>\n",
       "      <td>2.29305</td>\n",
       "      <td>2.12057</td>\n",
       "      <td>3.95113</td>\n",
       "      <td>12.7206</td>\n",
       "      <td>-19.3278</td>\n",
       "      <td>5.58789</td>\n",
       "      <td>9.38298</td>\n",
       "      <td>0.003064</td>\n",
       "      <td>0.003539</td>\n",
       "      <td>0.795949</td>\n",
       "    </tr>\n",
       "  </tbody>\n",
       "</table>\n",
       "</div>"
      ],
      "text/plain": [
       "   # of inputs  # of hidden neurons  # of output neurons    x1-a1     x2-a1  \\\n",
       "0            4                    2                    1  6.45294  0.017452   \n",
       "\n",
       "     x3-a1    x4-a1  bias-a1    x1-a2    x2-a2    x3-a2    x4-a2  bias-a2  \\\n",
       "0  1.58234  2.29305  2.12057  3.95113  12.7206 -19.3278  5.58789  9.38298   \n",
       "\n",
       "       a1-h      a2-h    bias-h  \n",
       "0  0.003064  0.003539  0.795949  "
      ]
     },
     "execution_count": 7,
     "metadata": {},
     "output_type": "execute_result"
    }
   ],
   "source": [
    "ann = pd.read_csv(\"ann1.txt\", sep=\",\", header=None)\n",
    "\n",
    "ann.columns = [\"# of inputs\", \"# of hidden neurons\", \"# of output neurons\",\n",
    "                          \"x1-a1\", \"x2-a1\", \"x3-a1\", \"x4-a1\", \"bias-a1\", \n",
    "                          \"x1-a2\", \"x2-a2\", \"x3-a2\", \"x4-a2\", \"bias-a2\", \n",
    "                          \"a1-h\", \"a2-h\", \"bias-h\"]\n",
    "\n",
    "ann[:1]"
   ]
  },
  {
   "cell_type": "code",
   "execution_count": 8,
   "metadata": {},
   "outputs": [],
   "source": [
    "# remove the first three columns\n",
    "ann = ann.iloc[:,3:]\n",
    "\n",
    "# split theta1 and theta2\n",
    "theta1 = ann.iloc[:,:10]\n",
    "theta2 = ann.iloc[:,10:]"
   ]
  },
  {
   "cell_type": "code",
   "execution_count": 9,
   "metadata": {},
   "outputs": [
    {
     "data": {
      "text/html": [
       "<div>\n",
       "<style scoped>\n",
       "    .dataframe tbody tr th:only-of-type {\n",
       "        vertical-align: middle;\n",
       "    }\n",
       "\n",
       "    .dataframe tbody tr th {\n",
       "        vertical-align: top;\n",
       "    }\n",
       "\n",
       "    .dataframe thead th {\n",
       "        text-align: right;\n",
       "    }\n",
       "</style>\n",
       "<table border=\"1\" class=\"dataframe\">\n",
       "  <thead>\n",
       "    <tr style=\"text-align: right;\">\n",
       "      <th></th>\n",
       "      <th>x1-a1</th>\n",
       "      <th>x2-a1</th>\n",
       "      <th>x3-a1</th>\n",
       "      <th>x4-a1</th>\n",
       "      <th>bias-a1</th>\n",
       "      <th>x1-a2</th>\n",
       "      <th>x2-a2</th>\n",
       "      <th>x3-a2</th>\n",
       "      <th>x4-a2</th>\n",
       "      <th>bias-a2</th>\n",
       "    </tr>\n",
       "  </thead>\n",
       "  <tbody>\n",
       "    <tr>\n",
       "      <th>47</th>\n",
       "      <td>1.76683</td>\n",
       "      <td>-0.336959</td>\n",
       "      <td>-0.116305</td>\n",
       "      <td>-0.069643</td>\n",
       "      <td>-1.62311</td>\n",
       "      <td>2.51027</td>\n",
       "      <td>5.65249</td>\n",
       "      <td>0.180271</td>\n",
       "      <td>0.065705</td>\n",
       "      <td>7.97995</td>\n",
       "    </tr>\n",
       "  </tbody>\n",
       "</table>\n",
       "</div>"
      ],
      "text/plain": [
       "      x1-a1     x2-a1     x3-a1     x4-a1  bias-a1    x1-a2    x2-a2  \\\n",
       "47  1.76683 -0.336959 -0.116305 -0.069643 -1.62311  2.51027  5.65249   \n",
       "\n",
       "       x3-a2     x4-a2  bias-a2  \n",
       "47  0.180271  0.065705  7.97995  "
      ]
     },
     "execution_count": 9,
     "metadata": {},
     "output_type": "execute_result"
    }
   ],
   "source": [
    "theta1[47:]"
   ]
  },
  {
   "cell_type": "code",
   "execution_count": 10,
   "metadata": {},
   "outputs": [
    {
     "data": {
      "text/html": [
       "<div>\n",
       "<style scoped>\n",
       "    .dataframe tbody tr th:only-of-type {\n",
       "        vertical-align: middle;\n",
       "    }\n",
       "\n",
       "    .dataframe tbody tr th {\n",
       "        vertical-align: top;\n",
       "    }\n",
       "\n",
       "    .dataframe thead th {\n",
       "        text-align: right;\n",
       "    }\n",
       "</style>\n",
       "<table border=\"1\" class=\"dataframe\">\n",
       "  <thead>\n",
       "    <tr style=\"text-align: right;\">\n",
       "      <th></th>\n",
       "      <th>a1-h</th>\n",
       "      <th>a2-h</th>\n",
       "      <th>bias-h</th>\n",
       "    </tr>\n",
       "  </thead>\n",
       "  <tbody>\n",
       "    <tr>\n",
       "      <th>47</th>\n",
       "      <td>-0.050054</td>\n",
       "      <td>0.457869</td>\n",
       "      <td>0.308072</td>\n",
       "    </tr>\n",
       "  </tbody>\n",
       "</table>\n",
       "</div>"
      ],
      "text/plain": [
       "        a1-h      a2-h    bias-h\n",
       "47 -0.050054  0.457869  0.308072"
      ]
     },
     "execution_count": 10,
     "metadata": {},
     "output_type": "execute_result"
    }
   ],
   "source": [
    "theta2[47:]"
   ]
  },
  {
   "cell_type": "markdown",
   "metadata": {},
   "source": [
    "2) write `theta1` and `theta2` to **data.dzn** file"
   ]
  },
  {
   "cell_type": "code",
   "execution_count": 11,
   "metadata": {},
   "outputs": [],
   "source": [
    "# flat theta1 for minizinc array3d constructor\n",
    "theta1_1d = theta1.values.flatten().tolist()  # (a list of float)\n",
    "\n",
    "ans = \"theta1 = array3d(1..m,aRange,xRangeExd, [\\n\"\n",
    "for val in theta1_1d:\n",
    "    ans += \"{:8.6f}\".format(val) + ', '\n",
    "ans = ans[:-2] # remove the last ',' and ' '\n",
    "ans += \"]);\\n\\n\"\n",
    "\n",
    "with open(\"data.dzn\", 'a') as f:\n",
    "    f.write(ans)"
   ]
  },
  {
   "cell_type": "code",
   "execution_count": 12,
   "metadata": {},
   "outputs": [],
   "source": [
    "# convert from df to python 2d list\n",
    "theta2_2d = theta2.values.tolist()\n",
    "\n",
    "ans = \"theta2 = \\n[\"\n",
    "for lst in theta2_2d:\n",
    "    ans += \"| \"\n",
    "    for val in lst:\n",
    "        ans += \"{:8.6f}\".format(val) + ', '\n",
    "    ans = ans[:-2] # remove the last ',' and ' '\n",
    "    ans += '\\n'\n",
    "ans = ans[:-1] # remove the last '\\n'\n",
    "ans += \"|];\\n\\n\"\n",
    "\n",
    "with open(\"data.dzn\", 'a') as f:\n",
    "    f.write(ans)"
   ]
  },
  {
   "cell_type": "markdown",
   "metadata": {},
   "source": [
    "write constants to **data.dzn**"
   ]
  },
  {
   "cell_type": "code",
   "execution_count": 13,
   "metadata": {},
   "outputs": [],
   "source": [
    "constants = \"n = 288; \\nm = 48; \\nh = 8; \\ninput_layer_size = 4; \\nhidden_layer_size = 2; \\n\\n\"\n",
    "\n",
    "with open(\"data.dzn\", 'a') as f:\n",
    "    f.write(constants)"
   ]
  },
  {
   "cell_type": "markdown",
   "metadata": {},
   "source": [
    "write `avgcpi` to **data.dzn** (to verify the solution)"
   ]
  },
  {
   "cell_type": "code",
   "execution_count": 14,
   "metadata": {},
   "outputs": [],
   "source": [
    "with open(\"avgcpi.txt\", 'r') as f:\n",
    "    lines = f.readlines()\n",
    "\n",
    "ans = \"avgcpi = [\"\n",
    "for line in lines:\n",
    "    vals = line.rstrip().split('\\t')\n",
    "    for val in vals:\n",
    "        ans += val + ', '\n",
    "ans = ans[:-2]\n",
    "ans += \"];\"\n",
    "\n",
    "with open(\"data.dzn\", 'a') as f:\n",
    "    f.write(ans)"
   ]
  }
 ],
 "metadata": {
  "kernelspec": {
   "display_name": "Python 3",
   "language": "python",
   "name": "python3"
  },
  "language_info": {
   "codemirror_mode": {
    "name": "ipython",
    "version": 3
   },
   "file_extension": ".py",
   "mimetype": "text/x-python",
   "name": "python",
   "nbconvert_exporter": "python",
   "pygments_lexer": "ipython3",
   "version": "3.6.5"
  }
 },
 "nbformat": 4,
 "nbformat_minor": 2
}
